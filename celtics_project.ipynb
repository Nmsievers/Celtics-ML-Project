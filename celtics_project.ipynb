{
 "cells": [
  {
   "cell_type": "code",
   "execution_count": 163,
   "metadata": {},
   "outputs": [],
   "source": [
    "import pandas as pd\n",
    "import numpy as np\n",
    "import seaborn as sns\n",
    "import matplotlib.pyplot as plt\n",
    "\n",
    "from sklearn.datasets import make_classification, make_regression\n",
    "from sklearn.model_selection import train_test_split, cross_val_score\n",
    "from sklearn.preprocessing import OneHotEncoder\n",
    "from sklearn.compose import make_column_transformer\n",
    "from sklearn.neighbors import KNeighborsClassifier\n",
    "from sklearn.linear_model import LogisticRegression \n",
    "from sklearn.tree import DecisionTreeClassifier\n",
    "from sklearn import metrics\n",
    "from sklearn.metrics import confusion_matrix\n",
    "from sklearn.ensemble import RandomForestClassifier, ExtraTreesClassifier, VotingClassifier\n"
   ]
  },
  {
   "cell_type": "code",
   "execution_count": 2,
   "metadata": {},
   "outputs": [
    {
     "data": {
      "text/html": [
       "<div>\n",
       "<style scoped>\n",
       "    .dataframe tbody tr th:only-of-type {\n",
       "        vertical-align: middle;\n",
       "    }\n",
       "\n",
       "    .dataframe tbody tr th {\n",
       "        vertical-align: top;\n",
       "    }\n",
       "\n",
       "    .dataframe thead th {\n",
       "        text-align: right;\n",
       "    }\n",
       "</style>\n",
       "<table border=\"1\" class=\"dataframe\">\n",
       "  <thead>\n",
       "    <tr style=\"text-align: right;\">\n",
       "      <th></th>\n",
       "      <th>Rk</th>\n",
       "      <th>G</th>\n",
       "      <th>Date</th>\n",
       "      <th>home_away</th>\n",
       "      <th>Opp</th>\n",
       "      <th>W/L</th>\n",
       "      <th>celtics_points</th>\n",
       "      <th>opp_points</th>\n",
       "      <th>c_FG</th>\n",
       "      <th>c_FGA</th>\n",
       "      <th>...</th>\n",
       "      <th>o_FT</th>\n",
       "      <th>o_FTA</th>\n",
       "      <th>o_FT%</th>\n",
       "      <th>o_ORB</th>\n",
       "      <th>o_TRB</th>\n",
       "      <th>o_AST</th>\n",
       "      <th>o_STL</th>\n",
       "      <th>o_BLK</th>\n",
       "      <th>o_TOV</th>\n",
       "      <th>o_PF</th>\n",
       "    </tr>\n",
       "  </thead>\n",
       "  <tbody>\n",
       "    <tr>\n",
       "      <th>0</th>\n",
       "      <td>1</td>\n",
       "      <td>1</td>\n",
       "      <td>10/20/21</td>\n",
       "      <td>@</td>\n",
       "      <td>NYK</td>\n",
       "      <td>L</td>\n",
       "      <td>134</td>\n",
       "      <td>138</td>\n",
       "      <td>48</td>\n",
       "      <td>117</td>\n",
       "      <td>...</td>\n",
       "      <td>19</td>\n",
       "      <td>27</td>\n",
       "      <td>0.704</td>\n",
       "      <td>7</td>\n",
       "      <td>55</td>\n",
       "      <td>27</td>\n",
       "      <td>9</td>\n",
       "      <td>10</td>\n",
       "      <td>17</td>\n",
       "      <td>22</td>\n",
       "    </tr>\n",
       "    <tr>\n",
       "      <th>1</th>\n",
       "      <td>2</td>\n",
       "      <td>2</td>\n",
       "      <td>10/22/21</td>\n",
       "      <td>NaN</td>\n",
       "      <td>TOR</td>\n",
       "      <td>L</td>\n",
       "      <td>83</td>\n",
       "      <td>115</td>\n",
       "      <td>32</td>\n",
       "      <td>82</td>\n",
       "      <td>...</td>\n",
       "      <td>21</td>\n",
       "      <td>21</td>\n",
       "      <td>1.000</td>\n",
       "      <td>21</td>\n",
       "      <td>60</td>\n",
       "      <td>22</td>\n",
       "      <td>16</td>\n",
       "      <td>2</td>\n",
       "      <td>11</td>\n",
       "      <td>13</td>\n",
       "    </tr>\n",
       "    <tr>\n",
       "      <th>2</th>\n",
       "      <td>3</td>\n",
       "      <td>3</td>\n",
       "      <td>10/24/21</td>\n",
       "      <td>@</td>\n",
       "      <td>HOU</td>\n",
       "      <td>W</td>\n",
       "      <td>107</td>\n",
       "      <td>97</td>\n",
       "      <td>38</td>\n",
       "      <td>86</td>\n",
       "      <td>...</td>\n",
       "      <td>19</td>\n",
       "      <td>24</td>\n",
       "      <td>0.792</td>\n",
       "      <td>5</td>\n",
       "      <td>40</td>\n",
       "      <td>20</td>\n",
       "      <td>7</td>\n",
       "      <td>4</td>\n",
       "      <td>18</td>\n",
       "      <td>20</td>\n",
       "    </tr>\n",
       "    <tr>\n",
       "      <th>3</th>\n",
       "      <td>4</td>\n",
       "      <td>4</td>\n",
       "      <td>10/25/21</td>\n",
       "      <td>@</td>\n",
       "      <td>CHO</td>\n",
       "      <td>W</td>\n",
       "      <td>140</td>\n",
       "      <td>129</td>\n",
       "      <td>50</td>\n",
       "      <td>101</td>\n",
       "      <td>...</td>\n",
       "      <td>18</td>\n",
       "      <td>28</td>\n",
       "      <td>0.643</td>\n",
       "      <td>14</td>\n",
       "      <td>52</td>\n",
       "      <td>26</td>\n",
       "      <td>4</td>\n",
       "      <td>6</td>\n",
       "      <td>14</td>\n",
       "      <td>25</td>\n",
       "    </tr>\n",
       "    <tr>\n",
       "      <th>4</th>\n",
       "      <td>5</td>\n",
       "      <td>5</td>\n",
       "      <td>10/27/21</td>\n",
       "      <td>NaN</td>\n",
       "      <td>WAS</td>\n",
       "      <td>L</td>\n",
       "      <td>107</td>\n",
       "      <td>116</td>\n",
       "      <td>37</td>\n",
       "      <td>85</td>\n",
       "      <td>...</td>\n",
       "      <td>21</td>\n",
       "      <td>29</td>\n",
       "      <td>0.724</td>\n",
       "      <td>11</td>\n",
       "      <td>47</td>\n",
       "      <td>18</td>\n",
       "      <td>8</td>\n",
       "      <td>7</td>\n",
       "      <td>15</td>\n",
       "      <td>20</td>\n",
       "    </tr>\n",
       "    <tr>\n",
       "      <th>...</th>\n",
       "      <td>...</td>\n",
       "      <td>...</td>\n",
       "      <td>...</td>\n",
       "      <td>...</td>\n",
       "      <td>...</td>\n",
       "      <td>...</td>\n",
       "      <td>...</td>\n",
       "      <td>...</td>\n",
       "      <td>...</td>\n",
       "      <td>...</td>\n",
       "      <td>...</td>\n",
       "      <td>...</td>\n",
       "      <td>...</td>\n",
       "      <td>...</td>\n",
       "      <td>...</td>\n",
       "      <td>...</td>\n",
       "      <td>...</td>\n",
       "      <td>...</td>\n",
       "      <td>...</td>\n",
       "      <td>...</td>\n",
       "      <td>...</td>\n",
       "    </tr>\n",
       "    <tr>\n",
       "      <th>74</th>\n",
       "      <td>75</td>\n",
       "      <td>75</td>\n",
       "      <td>3/27/22</td>\n",
       "      <td>NaN</td>\n",
       "      <td>MIN</td>\n",
       "      <td>W</td>\n",
       "      <td>134</td>\n",
       "      <td>112</td>\n",
       "      <td>49</td>\n",
       "      <td>87</td>\n",
       "      <td>...</td>\n",
       "      <td>8</td>\n",
       "      <td>12</td>\n",
       "      <td>0.667</td>\n",
       "      <td>4</td>\n",
       "      <td>30</td>\n",
       "      <td>26</td>\n",
       "      <td>7</td>\n",
       "      <td>3</td>\n",
       "      <td>14</td>\n",
       "      <td>21</td>\n",
       "    </tr>\n",
       "    <tr>\n",
       "      <th>75</th>\n",
       "      <td>76</td>\n",
       "      <td>76</td>\n",
       "      <td>3/28/22</td>\n",
       "      <td>@</td>\n",
       "      <td>TOR</td>\n",
       "      <td>L</td>\n",
       "      <td>112</td>\n",
       "      <td>115</td>\n",
       "      <td>39</td>\n",
       "      <td>95</td>\n",
       "      <td>...</td>\n",
       "      <td>13</td>\n",
       "      <td>18</td>\n",
       "      <td>0.722</td>\n",
       "      <td>16</td>\n",
       "      <td>52</td>\n",
       "      <td>16</td>\n",
       "      <td>10</td>\n",
       "      <td>11</td>\n",
       "      <td>10</td>\n",
       "      <td>28</td>\n",
       "    </tr>\n",
       "    <tr>\n",
       "      <th>76</th>\n",
       "      <td>77</td>\n",
       "      <td>77</td>\n",
       "      <td>3/30/22</td>\n",
       "      <td>NaN</td>\n",
       "      <td>MIA</td>\n",
       "      <td>L</td>\n",
       "      <td>98</td>\n",
       "      <td>106</td>\n",
       "      <td>35</td>\n",
       "      <td>85</td>\n",
       "      <td>...</td>\n",
       "      <td>17</td>\n",
       "      <td>25</td>\n",
       "      <td>0.680</td>\n",
       "      <td>4</td>\n",
       "      <td>42</td>\n",
       "      <td>27</td>\n",
       "      <td>9</td>\n",
       "      <td>6</td>\n",
       "      <td>15</td>\n",
       "      <td>23</td>\n",
       "    </tr>\n",
       "    <tr>\n",
       "      <th>77</th>\n",
       "      <td>78</td>\n",
       "      <td>78</td>\n",
       "      <td>4/1/22</td>\n",
       "      <td>NaN</td>\n",
       "      <td>IND</td>\n",
       "      <td>W</td>\n",
       "      <td>128</td>\n",
       "      <td>123</td>\n",
       "      <td>45</td>\n",
       "      <td>83</td>\n",
       "      <td>...</td>\n",
       "      <td>22</td>\n",
       "      <td>23</td>\n",
       "      <td>0.957</td>\n",
       "      <td>8</td>\n",
       "      <td>30</td>\n",
       "      <td>25</td>\n",
       "      <td>9</td>\n",
       "      <td>3</td>\n",
       "      <td>16</td>\n",
       "      <td>30</td>\n",
       "    </tr>\n",
       "    <tr>\n",
       "      <th>78</th>\n",
       "      <td>79</td>\n",
       "      <td>79</td>\n",
       "      <td>4/3/22</td>\n",
       "      <td>NaN</td>\n",
       "      <td>WAS</td>\n",
       "      <td>W</td>\n",
       "      <td>144</td>\n",
       "      <td>102</td>\n",
       "      <td>56</td>\n",
       "      <td>91</td>\n",
       "      <td>...</td>\n",
       "      <td>18</td>\n",
       "      <td>20</td>\n",
       "      <td>0.900</td>\n",
       "      <td>7</td>\n",
       "      <td>32</td>\n",
       "      <td>21</td>\n",
       "      <td>4</td>\n",
       "      <td>2</td>\n",
       "      <td>12</td>\n",
       "      <td>14</td>\n",
       "    </tr>\n",
       "  </tbody>\n",
       "</table>\n",
       "<p>79 rows × 40 columns</p>\n",
       "</div>"
      ],
      "text/plain": [
       "    Rk   G      Date home_away  Opp W/L  celtics_points  opp_points  c_FG  \\\n",
       "0    1   1  10/20/21         @  NYK   L             134         138    48   \n",
       "1    2   2  10/22/21       NaN  TOR   L              83         115    32   \n",
       "2    3   3  10/24/21         @  HOU   W             107          97    38   \n",
       "3    4   4  10/25/21         @  CHO   W             140         129    50   \n",
       "4    5   5  10/27/21       NaN  WAS   L             107         116    37   \n",
       "..  ..  ..       ...       ...  ...  ..             ...         ...   ...   \n",
       "74  75  75   3/27/22       NaN  MIN   W             134         112    49   \n",
       "75  76  76   3/28/22         @  TOR   L             112         115    39   \n",
       "76  77  77   3/30/22       NaN  MIA   L              98         106    35   \n",
       "77  78  78    4/1/22       NaN  IND   W             128         123    45   \n",
       "78  79  79    4/3/22       NaN  WAS   W             144         102    56   \n",
       "\n",
       "    c_FGA  ...  o_FT  o_FTA  o_FT%  o_ORB  o_TRB  o_AST  o_STL  o_BLK  o_TOV  \\\n",
       "0     117  ...    19     27  0.704      7     55     27      9     10     17   \n",
       "1      82  ...    21     21  1.000     21     60     22     16      2     11   \n",
       "2      86  ...    19     24  0.792      5     40     20      7      4     18   \n",
       "3     101  ...    18     28  0.643     14     52     26      4      6     14   \n",
       "4      85  ...    21     29  0.724     11     47     18      8      7     15   \n",
       "..    ...  ...   ...    ...    ...    ...    ...    ...    ...    ...    ...   \n",
       "74     87  ...     8     12  0.667      4     30     26      7      3     14   \n",
       "75     95  ...    13     18  0.722     16     52     16     10     11     10   \n",
       "76     85  ...    17     25  0.680      4     42     27      9      6     15   \n",
       "77     83  ...    22     23  0.957      8     30     25      9      3     16   \n",
       "78     91  ...    18     20  0.900      7     32     21      4      2     12   \n",
       "\n",
       "    o_PF  \n",
       "0     22  \n",
       "1     13  \n",
       "2     20  \n",
       "3     25  \n",
       "4     20  \n",
       "..   ...  \n",
       "74    21  \n",
       "75    28  \n",
       "76    23  \n",
       "77    30  \n",
       "78    14  \n",
       "\n",
       "[79 rows x 40 columns]"
      ]
     },
     "execution_count": 2,
     "metadata": {},
     "output_type": "execute_result"
    }
   ],
   "source": [
    "#Load dataset. This data is was downloaded from basketball reference.com\n",
    "df = pd.read_csv('/Users/nmsievers/Desktop/celtics_nba.csv')\n",
    "df"
   ]
  },
  {
   "cell_type": "code",
   "execution_count": 3,
   "metadata": {},
   "outputs": [
    {
     "name": "stdout",
     "output_type": "stream",
     "text": [
      "<class 'pandas.core.frame.DataFrame'>\n",
      "RangeIndex: 79 entries, 0 to 78\n",
      "Data columns (total 40 columns):\n",
      " #   Column          Non-Null Count  Dtype  \n",
      "---  ------          --------------  -----  \n",
      " 0   Rk              79 non-null     int64  \n",
      " 1   G               79 non-null     int64  \n",
      " 2   Date            79 non-null     object \n",
      " 3   home_away       38 non-null     object \n",
      " 4   Opp             79 non-null     object \n",
      " 5   W/L             79 non-null     object \n",
      " 6   celtics_points  79 non-null     int64  \n",
      " 7   opp_points      79 non-null     int64  \n",
      " 8   c_FG            79 non-null     int64  \n",
      " 9   c_FGA           79 non-null     int64  \n",
      " 10  c_FG%           79 non-null     float64\n",
      " 11  c_3P            79 non-null     int64  \n",
      " 12  c_3PA           79 non-null     int64  \n",
      " 13  c_3P%           79 non-null     float64\n",
      " 14  c_FT            79 non-null     int64  \n",
      " 15  c_FTA           79 non-null     int64  \n",
      " 16  c_FT%           79 non-null     float64\n",
      " 17  c_ORB           79 non-null     int64  \n",
      " 18  c_TRB           79 non-null     int64  \n",
      " 19  c_AST           79 non-null     int64  \n",
      " 20  c_STL           79 non-null     int64  \n",
      " 21  c_BLK           79 non-null     int64  \n",
      " 22  c_TOV           79 non-null     int64  \n",
      " 23  c_PF            79 non-null     int64  \n",
      " 24  o_FG            79 non-null     int64  \n",
      " 25  o_FGA           79 non-null     int64  \n",
      " 26  o_FG%           79 non-null     float64\n",
      " 27  o_3P            79 non-null     int64  \n",
      " 28  o_3PA           79 non-null     int64  \n",
      " 29  o_3P%           79 non-null     float64\n",
      " 30  o_FT            79 non-null     int64  \n",
      " 31  o_FTA           79 non-null     int64  \n",
      " 32  o_FT%           79 non-null     float64\n",
      " 33  o_ORB           79 non-null     int64  \n",
      " 34  o_TRB           79 non-null     int64  \n",
      " 35  o_AST           79 non-null     int64  \n",
      " 36  o_STL           79 non-null     int64  \n",
      " 37  o_BLK           79 non-null     int64  \n",
      " 38  o_TOV           79 non-null     int64  \n",
      " 39  o_PF            79 non-null     int64  \n",
      "dtypes: float64(6), int64(30), object(4)\n",
      "memory usage: 24.8+ KB\n"
     ]
    }
   ],
   "source": [
    "#No null data. \n",
    "df.info()"
   ]
  },
  {
   "cell_type": "code",
   "execution_count": 5,
   "metadata": {},
   "outputs": [
    {
     "data": {
      "text/html": [
       "<div>\n",
       "<style scoped>\n",
       "    .dataframe tbody tr th:only-of-type {\n",
       "        vertical-align: middle;\n",
       "    }\n",
       "\n",
       "    .dataframe tbody tr th {\n",
       "        vertical-align: top;\n",
       "    }\n",
       "\n",
       "    .dataframe thead th {\n",
       "        text-align: right;\n",
       "    }\n",
       "</style>\n",
       "<table border=\"1\" class=\"dataframe\">\n",
       "  <thead>\n",
       "    <tr style=\"text-align: right;\">\n",
       "      <th></th>\n",
       "      <th>rk</th>\n",
       "      <th>g</th>\n",
       "      <th>date</th>\n",
       "      <th>home_away</th>\n",
       "      <th>opp</th>\n",
       "      <th>w/l</th>\n",
       "      <th>celtics_points</th>\n",
       "      <th>opp_points</th>\n",
       "      <th>c_fg</th>\n",
       "      <th>c_fga</th>\n",
       "      <th>...</th>\n",
       "      <th>o_ft</th>\n",
       "      <th>o_fta</th>\n",
       "      <th>o_ft%</th>\n",
       "      <th>o_orb</th>\n",
       "      <th>o_trb</th>\n",
       "      <th>o_ast</th>\n",
       "      <th>o_stl</th>\n",
       "      <th>o_blk</th>\n",
       "      <th>o_tov</th>\n",
       "      <th>o_pf</th>\n",
       "    </tr>\n",
       "  </thead>\n",
       "  <tbody>\n",
       "    <tr>\n",
       "      <th>0</th>\n",
       "      <td>1</td>\n",
       "      <td>1</td>\n",
       "      <td>10/20/21</td>\n",
       "      <td>@</td>\n",
       "      <td>NYK</td>\n",
       "      <td>L</td>\n",
       "      <td>134</td>\n",
       "      <td>138</td>\n",
       "      <td>48</td>\n",
       "      <td>117</td>\n",
       "      <td>...</td>\n",
       "      <td>19</td>\n",
       "      <td>27</td>\n",
       "      <td>0.704</td>\n",
       "      <td>7</td>\n",
       "      <td>55</td>\n",
       "      <td>27</td>\n",
       "      <td>9</td>\n",
       "      <td>10</td>\n",
       "      <td>17</td>\n",
       "      <td>22</td>\n",
       "    </tr>\n",
       "    <tr>\n",
       "      <th>1</th>\n",
       "      <td>2</td>\n",
       "      <td>2</td>\n",
       "      <td>10/22/21</td>\n",
       "      <td>NaN</td>\n",
       "      <td>TOR</td>\n",
       "      <td>L</td>\n",
       "      <td>83</td>\n",
       "      <td>115</td>\n",
       "      <td>32</td>\n",
       "      <td>82</td>\n",
       "      <td>...</td>\n",
       "      <td>21</td>\n",
       "      <td>21</td>\n",
       "      <td>1.000</td>\n",
       "      <td>21</td>\n",
       "      <td>60</td>\n",
       "      <td>22</td>\n",
       "      <td>16</td>\n",
       "      <td>2</td>\n",
       "      <td>11</td>\n",
       "      <td>13</td>\n",
       "    </tr>\n",
       "    <tr>\n",
       "      <th>2</th>\n",
       "      <td>3</td>\n",
       "      <td>3</td>\n",
       "      <td>10/24/21</td>\n",
       "      <td>@</td>\n",
       "      <td>HOU</td>\n",
       "      <td>W</td>\n",
       "      <td>107</td>\n",
       "      <td>97</td>\n",
       "      <td>38</td>\n",
       "      <td>86</td>\n",
       "      <td>...</td>\n",
       "      <td>19</td>\n",
       "      <td>24</td>\n",
       "      <td>0.792</td>\n",
       "      <td>5</td>\n",
       "      <td>40</td>\n",
       "      <td>20</td>\n",
       "      <td>7</td>\n",
       "      <td>4</td>\n",
       "      <td>18</td>\n",
       "      <td>20</td>\n",
       "    </tr>\n",
       "    <tr>\n",
       "      <th>3</th>\n",
       "      <td>4</td>\n",
       "      <td>4</td>\n",
       "      <td>10/25/21</td>\n",
       "      <td>@</td>\n",
       "      <td>CHO</td>\n",
       "      <td>W</td>\n",
       "      <td>140</td>\n",
       "      <td>129</td>\n",
       "      <td>50</td>\n",
       "      <td>101</td>\n",
       "      <td>...</td>\n",
       "      <td>18</td>\n",
       "      <td>28</td>\n",
       "      <td>0.643</td>\n",
       "      <td>14</td>\n",
       "      <td>52</td>\n",
       "      <td>26</td>\n",
       "      <td>4</td>\n",
       "      <td>6</td>\n",
       "      <td>14</td>\n",
       "      <td>25</td>\n",
       "    </tr>\n",
       "    <tr>\n",
       "      <th>4</th>\n",
       "      <td>5</td>\n",
       "      <td>5</td>\n",
       "      <td>10/27/21</td>\n",
       "      <td>NaN</td>\n",
       "      <td>WAS</td>\n",
       "      <td>L</td>\n",
       "      <td>107</td>\n",
       "      <td>116</td>\n",
       "      <td>37</td>\n",
       "      <td>85</td>\n",
       "      <td>...</td>\n",
       "      <td>21</td>\n",
       "      <td>29</td>\n",
       "      <td>0.724</td>\n",
       "      <td>11</td>\n",
       "      <td>47</td>\n",
       "      <td>18</td>\n",
       "      <td>8</td>\n",
       "      <td>7</td>\n",
       "      <td>15</td>\n",
       "      <td>20</td>\n",
       "    </tr>\n",
       "  </tbody>\n",
       "</table>\n",
       "<p>5 rows × 40 columns</p>\n",
       "</div>"
      ],
      "text/plain": [
       "   rk  g      date home_away  opp w/l  celtics_points  opp_points  c_fg  \\\n",
       "0   1  1  10/20/21         @  NYK   L             134         138    48   \n",
       "1   2  2  10/22/21       NaN  TOR   L              83         115    32   \n",
       "2   3  3  10/24/21         @  HOU   W             107          97    38   \n",
       "3   4  4  10/25/21         @  CHO   W             140         129    50   \n",
       "4   5  5  10/27/21       NaN  WAS   L             107         116    37   \n",
       "\n",
       "   c_fga  ...  o_ft  o_fta  o_ft%  o_orb  o_trb  o_ast  o_stl  o_blk  o_tov  \\\n",
       "0    117  ...    19     27  0.704      7     55     27      9     10     17   \n",
       "1     82  ...    21     21  1.000     21     60     22     16      2     11   \n",
       "2     86  ...    19     24  0.792      5     40     20      7      4     18   \n",
       "3    101  ...    18     28  0.643     14     52     26      4      6     14   \n",
       "4     85  ...    21     29  0.724     11     47     18      8      7     15   \n",
       "\n",
       "   o_pf  \n",
       "0    22  \n",
       "1    13  \n",
       "2    20  \n",
       "3    25  \n",
       "4    20  \n",
       "\n",
       "[5 rows x 40 columns]"
      ]
     },
     "execution_count": 5,
     "metadata": {},
     "output_type": "execute_result"
    }
   ],
   "source": [
    "#Make all columns lowercase\n",
    "df.columns = df.columns.str.lower()\n",
    "df.head()"
   ]
  },
  {
   "cell_type": "code",
   "execution_count": 6,
   "metadata": {},
   "outputs": [],
   "source": [
    "#Drop redundant rk column \n",
    "df = df.drop(columns='rk')"
   ]
  },
  {
   "cell_type": "code",
   "execution_count": 7,
   "metadata": {},
   "outputs": [],
   "source": [
    "#Make new column to specify if a game is home or away\n",
    "df['home_away'] = np.where(df['home_away'].isin(['@']), 0, 1)"
   ]
  },
  {
   "cell_type": "code",
   "execution_count": 8,
   "metadata": {},
   "outputs": [],
   "source": [
    "#Make date column into date dtype\n",
    "df['date'] = pd.to_datetime(df['date'])"
   ]
  },
  {
   "cell_type": "code",
   "execution_count": 9,
   "metadata": {},
   "outputs": [],
   "source": [
    "#Make win loss a 1 or 0 \n",
    "df['w/l'] = np.where(df['w/l'].isin(['W']), 1, 0)"
   ]
  },
  {
   "cell_type": "code",
   "execution_count": 11,
   "metadata": {},
   "outputs": [],
   "source": [
    "#Exploratory Analysis "
   ]
  },
  {
   "cell_type": "code",
   "execution_count": 12,
   "metadata": {},
   "outputs": [
    {
     "data": {
      "text/plain": [
       "1    49\n",
       "0    30\n",
       "Name: w/l, dtype: int64"
      ]
     },
     "execution_count": 12,
     "metadata": {},
     "output_type": "execute_result"
    }
   ],
   "source": [
    "#Celtics record this season\n",
    "df['w/l'].value_counts()"
   ]
  },
  {
   "cell_type": "code",
   "execution_count": 13,
   "metadata": {},
   "outputs": [
    {
     "data": {
      "text/plain": [
       "1    0.620253\n",
       "0    0.379747\n",
       "Name: w/l, dtype: float64"
      ]
     },
     "execution_count": 13,
     "metadata": {},
     "output_type": "execute_result"
    }
   ],
   "source": [
    "#Celtics won 62% of their games this season. The model should be able to guess predict better than 62%.\n",
    "df['w/l'].value_counts(normalize=True)"
   ]
  },
  {
   "cell_type": "code",
   "execution_count": 14,
   "metadata": {},
   "outputs": [
    {
     "data": {
      "text/html": [
       "<div>\n",
       "<style scoped>\n",
       "    .dataframe tbody tr th:only-of-type {\n",
       "        vertical-align: middle;\n",
       "    }\n",
       "\n",
       "    .dataframe tbody tr th {\n",
       "        vertical-align: top;\n",
       "    }\n",
       "\n",
       "    .dataframe thead th {\n",
       "        text-align: right;\n",
       "    }\n",
       "</style>\n",
       "<table border=\"1\" class=\"dataframe\">\n",
       "  <thead>\n",
       "    <tr style=\"text-align: right;\">\n",
       "      <th></th>\n",
       "      <th>opp</th>\n",
       "      <th>wins</th>\n",
       "      <th>games</th>\n",
       "      <th>loss</th>\n",
       "    </tr>\n",
       "  </thead>\n",
       "  <tbody>\n",
       "    <tr>\n",
       "      <th>0</th>\n",
       "      <td>ATL</td>\n",
       "      <td>2</td>\n",
       "      <td>4</td>\n",
       "      <td>2</td>\n",
       "    </tr>\n",
       "    <tr>\n",
       "      <th>1</th>\n",
       "      <td>BRK</td>\n",
       "      <td>3</td>\n",
       "      <td>4</td>\n",
       "      <td>1</td>\n",
       "    </tr>\n",
       "    <tr>\n",
       "      <th>2</th>\n",
       "      <td>CHI</td>\n",
       "      <td>1</td>\n",
       "      <td>2</td>\n",
       "      <td>1</td>\n",
       "    </tr>\n",
       "    <tr>\n",
       "      <th>3</th>\n",
       "      <td>CHO</td>\n",
       "      <td>3</td>\n",
       "      <td>4</td>\n",
       "      <td>1</td>\n",
       "    </tr>\n",
       "    <tr>\n",
       "      <th>4</th>\n",
       "      <td>CLE</td>\n",
       "      <td>2</td>\n",
       "      <td>3</td>\n",
       "      <td>1</td>\n",
       "    </tr>\n",
       "    <tr>\n",
       "      <th>5</th>\n",
       "      <td>DAL</td>\n",
       "      <td>0</td>\n",
       "      <td>2</td>\n",
       "      <td>2</td>\n",
       "    </tr>\n",
       "    <tr>\n",
       "      <th>6</th>\n",
       "      <td>DEN</td>\n",
       "      <td>2</td>\n",
       "      <td>2</td>\n",
       "      <td>0</td>\n",
       "    </tr>\n",
       "    <tr>\n",
       "      <th>7</th>\n",
       "      <td>DET</td>\n",
       "      <td>3</td>\n",
       "      <td>4</td>\n",
       "      <td>1</td>\n",
       "    </tr>\n",
       "    <tr>\n",
       "      <th>8</th>\n",
       "      <td>GSW</td>\n",
       "      <td>1</td>\n",
       "      <td>2</td>\n",
       "      <td>1</td>\n",
       "    </tr>\n",
       "    <tr>\n",
       "      <th>9</th>\n",
       "      <td>HOU</td>\n",
       "      <td>2</td>\n",
       "      <td>2</td>\n",
       "      <td>0</td>\n",
       "    </tr>\n",
       "    <tr>\n",
       "      <th>10</th>\n",
       "      <td>IND</td>\n",
       "      <td>3</td>\n",
       "      <td>4</td>\n",
       "      <td>1</td>\n",
       "    </tr>\n",
       "    <tr>\n",
       "      <th>11</th>\n",
       "      <td>LAC</td>\n",
       "      <td>0</td>\n",
       "      <td>2</td>\n",
       "      <td>2</td>\n",
       "    </tr>\n",
       "    <tr>\n",
       "      <th>12</th>\n",
       "      <td>LAL</td>\n",
       "      <td>1</td>\n",
       "      <td>2</td>\n",
       "      <td>1</td>\n",
       "    </tr>\n",
       "    <tr>\n",
       "      <th>13</th>\n",
       "      <td>MEM</td>\n",
       "      <td>1</td>\n",
       "      <td>1</td>\n",
       "      <td>0</td>\n",
       "    </tr>\n",
       "    <tr>\n",
       "      <th>14</th>\n",
       "      <td>MIA</td>\n",
       "      <td>2</td>\n",
       "      <td>3</td>\n",
       "      <td>1</td>\n",
       "    </tr>\n",
       "    <tr>\n",
       "      <th>15</th>\n",
       "      <td>MIL</td>\n",
       "      <td>2</td>\n",
       "      <td>3</td>\n",
       "      <td>1</td>\n",
       "    </tr>\n",
       "    <tr>\n",
       "      <th>16</th>\n",
       "      <td>MIN</td>\n",
       "      <td>1</td>\n",
       "      <td>2</td>\n",
       "      <td>1</td>\n",
       "    </tr>\n",
       "    <tr>\n",
       "      <th>17</th>\n",
       "      <td>NOP</td>\n",
       "      <td>2</td>\n",
       "      <td>2</td>\n",
       "      <td>0</td>\n",
       "    </tr>\n",
       "    <tr>\n",
       "      <th>18</th>\n",
       "      <td>NYK</td>\n",
       "      <td>2</td>\n",
       "      <td>4</td>\n",
       "      <td>2</td>\n",
       "    </tr>\n",
       "    <tr>\n",
       "      <th>19</th>\n",
       "      <td>OKC</td>\n",
       "      <td>2</td>\n",
       "      <td>2</td>\n",
       "      <td>0</td>\n",
       "    </tr>\n",
       "    <tr>\n",
       "      <th>20</th>\n",
       "      <td>ORL</td>\n",
       "      <td>3</td>\n",
       "      <td>3</td>\n",
       "      <td>0</td>\n",
       "    </tr>\n",
       "    <tr>\n",
       "      <th>21</th>\n",
       "      <td>PHI</td>\n",
       "      <td>2</td>\n",
       "      <td>4</td>\n",
       "      <td>2</td>\n",
       "    </tr>\n",
       "    <tr>\n",
       "      <th>22</th>\n",
       "      <td>PHO</td>\n",
       "      <td>1</td>\n",
       "      <td>2</td>\n",
       "      <td>1</td>\n",
       "    </tr>\n",
       "    <tr>\n",
       "      <th>23</th>\n",
       "      <td>POR</td>\n",
       "      <td>1</td>\n",
       "      <td>2</td>\n",
       "      <td>1</td>\n",
       "    </tr>\n",
       "    <tr>\n",
       "      <th>24</th>\n",
       "      <td>SAC</td>\n",
       "      <td>2</td>\n",
       "      <td>2</td>\n",
       "      <td>0</td>\n",
       "    </tr>\n",
       "    <tr>\n",
       "      <th>25</th>\n",
       "      <td>SAS</td>\n",
       "      <td>0</td>\n",
       "      <td>2</td>\n",
       "      <td>2</td>\n",
       "    </tr>\n",
       "    <tr>\n",
       "      <th>26</th>\n",
       "      <td>TOR</td>\n",
       "      <td>2</td>\n",
       "      <td>4</td>\n",
       "      <td>2</td>\n",
       "    </tr>\n",
       "    <tr>\n",
       "      <th>27</th>\n",
       "      <td>UTA</td>\n",
       "      <td>1</td>\n",
       "      <td>2</td>\n",
       "      <td>1</td>\n",
       "    </tr>\n",
       "    <tr>\n",
       "      <th>28</th>\n",
       "      <td>WAS</td>\n",
       "      <td>2</td>\n",
       "      <td>4</td>\n",
       "      <td>2</td>\n",
       "    </tr>\n",
       "  </tbody>\n",
       "</table>\n",
       "</div>"
      ],
      "text/plain": [
       "    opp  wins  games  loss\n",
       "0   ATL     2      4     2\n",
       "1   BRK     3      4     1\n",
       "2   CHI     1      2     1\n",
       "3   CHO     3      4     1\n",
       "4   CLE     2      3     1\n",
       "5   DAL     0      2     2\n",
       "6   DEN     2      2     0\n",
       "7   DET     3      4     1\n",
       "8   GSW     1      2     1\n",
       "9   HOU     2      2     0\n",
       "10  IND     3      4     1\n",
       "11  LAC     0      2     2\n",
       "12  LAL     1      2     1\n",
       "13  MEM     1      1     0\n",
       "14  MIA     2      3     1\n",
       "15  MIL     2      3     1\n",
       "16  MIN     1      2     1\n",
       "17  NOP     2      2     0\n",
       "18  NYK     2      4     2\n",
       "19  OKC     2      2     0\n",
       "20  ORL     3      3     0\n",
       "21  PHI     2      4     2\n",
       "22  PHO     1      2     1\n",
       "23  POR     1      2     1\n",
       "24  SAC     2      2     0\n",
       "25  SAS     0      2     2\n",
       "26  TOR     2      4     2\n",
       "27  UTA     1      2     1\n",
       "28  WAS     2      4     2"
      ]
     },
     "execution_count": 14,
     "metadata": {},
     "output_type": "execute_result"
    }
   ],
   "source": [
    "df_win_loss = df.groupby('opp').agg(wins=('w/l',np.sum),games=('g',np.size)).reset_index() \n",
    "df_win_loss['loss'] = df_win_loss['games'] - df_win_loss['wins']\n",
    "df_win_loss"
   ]
  },
  {
   "cell_type": "code",
   "execution_count": 15,
   "metadata": {},
   "outputs": [
    {
     "data": {
      "text/plain": [
       "c_fg%     0.465481\n",
       "o_fg%     0.435051\n",
       "c_3p%     0.349949\n",
       "o_3p%     0.338810\n",
       "c_ft%     0.817456\n",
       "o_ft%     0.786063\n",
       "c_ast    24.594937\n",
       "o_ast    21.518987\n",
       "c_orb    10.544304\n",
       "o_orb    10.354430\n",
       "dtype: float64"
      ]
     },
     "execution_count": 15,
     "metadata": {},
     "output_type": "execute_result"
    }
   ],
   "source": [
    "#Look at Offensive stats compared to opponents \n",
    "df[['c_fg%','o_fg%','c_3p%','o_3p%','c_ft%','o_ft%','c_ast','o_ast','c_orb','o_orb']].mean()\n",
    "\n",
    "#Celtics are shooting better, assisting more, and getting more offensive rebounds than opponents"
   ]
  },
  {
   "cell_type": "code",
   "execution_count": 16,
   "metadata": {},
   "outputs": [
    {
     "data": {
      "text/plain": [
       "c_stl     7.177215\n",
       "o_stl     7.430380\n",
       "c_blk     5.898734\n",
       "o_blk     4.569620\n",
       "c_tov    13.012658\n",
       "o_tov    13.000000\n",
       "dtype: float64"
      ]
     },
     "execution_count": 16,
     "metadata": {},
     "output_type": "execute_result"
    }
   ],
   "source": [
    "#Look at defensive stats compared to opponents \n",
    "\n",
    "df[['c_stl','o_stl','c_blk','o_blk','c_tov','o_tov']].mean()\n",
    "\n",
    "#Averaging less steals, more blocks, and the same number of turnovers as opponents"
   ]
  },
  {
   "cell_type": "code",
   "execution_count": 20,
   "metadata": {},
   "outputs": [
    {
     "data": {
      "text/plain": [
       "<matplotlib.axes._subplots.AxesSubplot at 0x7fddcc26f410>"
      ]
     },
     "execution_count": 20,
     "metadata": {},
     "output_type": "execute_result"
    },
    {
     "data": {
      "image/png": "[encoded data removed]",
      "text/plain": [
       "<Figure size 432x288 with 2 Axes>"
      ]
     },
     "metadata": {
      "needs_background": "light"
     },
     "output_type": "display_data"
    }
   ],
   "source": [
    "df_offense_corr = df[['opp','w/l','celtics_points','opp_points','c_fg%','c_3p%','c_ft%','o_fg%','o_3p%','o_ft%',]]\n",
    "sns.heatmap(df_offense_corr.corr(), annot = True)\n",
    "\n",
    "#Features with the highest correlation to w/l\n",
    "# c_fg% -> c_3p% -> o_fg% -> opp_points -> celtics_points -> o_3p%\n",
    "#ft% doesnt not correlation much with winning "
   ]
  },
  {
   "cell_type": "code",
   "execution_count": 21,
   "metadata": {},
   "outputs": [
    {
     "data": {
      "image/png": "[encoded data removed]",
      "text/plain": [
       "<Figure size 432x288 with 2 Axes>"
      ]
     },
     "metadata": {
      "needs_background": "light"
     },
     "output_type": "display_data"
    }
   ],
   "source": [
    "df_defense_corr_celtics = df[['w/l','c_orb', 'c_trb', 'c_ast', 'c_stl', 'c_blk', 'c_tov', 'c_pf']]\n",
    "df_defense_corr_opp = df[['w/l','o_orb', 'o_trb', 'o_ast', 'o_stl', 'o_blk', 'o_tov', 'o_pf']]\n",
    "sns.heatmap(df_defense_corr_celtics.corr(), annot = True);\n",
    "\n",
    "#celtics assists and rebound percent have large impact on win/loss"
   ]
  },
  {
   "cell_type": "code",
   "execution_count": 22,
   "metadata": {},
   "outputs": [
    {
     "data": {
      "image/png": "[encoded data removed]",
      "text/plain": [
       "<Figure size 432x288 with 2 Axes>"
      ]
     },
     "metadata": {
      "needs_background": "light"
     },
     "output_type": "display_data"
    }
   ],
   "source": [
    "sns.heatmap(df_defense_corr_opp.corr(), annot = True);\n",
    "#Opponent rebound, assists, blocks and steals have high correlations "
   ]
  },
  {
   "cell_type": "code",
   "execution_count": 24,
   "metadata": {},
   "outputs": [],
   "source": [
    "#One df with home/away, opp and one without. \n",
    "df_nn_simple = df[['home_away','opp','celtics_points','opp_points','c_fg%','c_3p%','o_fg%','o_3p%','c_ast','c_trb','o_trb','o_ast','o_blk','o_stl']]\n",
    "df_combined = df[['home_away','opp','c_fg%','c_3p%','celtics_points','c_ast','c_trb']]\n",
    "df_combined_en = pd.get_dummies(df_combined, drop_first=True)\n",
    "df_nn_all = pd.get_dummies(df_nn_simple, drop_first=True)\n",
    "\n"
   ]
  },
  {
   "cell_type": "code",
   "execution_count": 25,
   "metadata": {},
   "outputs": [
    {
     "data": {
      "text/html": [
       "<div>\n",
       "<style scoped>\n",
       "    .dataframe tbody tr th:only-of-type {\n",
       "        vertical-align: middle;\n",
       "    }\n",
       "\n",
       "    .dataframe tbody tr th {\n",
       "        vertical-align: top;\n",
       "    }\n",
       "\n",
       "    .dataframe thead th {\n",
       "        text-align: right;\n",
       "    }\n",
       "</style>\n",
       "<table border=\"1\" class=\"dataframe\">\n",
       "  <thead>\n",
       "    <tr style=\"text-align: right;\">\n",
       "      <th></th>\n",
       "      <th>home_away</th>\n",
       "      <th>c_fg%</th>\n",
       "      <th>c_3p%</th>\n",
       "      <th>celtics_points</th>\n",
       "      <th>c_ast</th>\n",
       "      <th>c_trb</th>\n",
       "      <th>opp_BRK</th>\n",
       "      <th>opp_CHI</th>\n",
       "      <th>opp_CHO</th>\n",
       "      <th>opp_CLE</th>\n",
       "      <th>...</th>\n",
       "      <th>opp_OKC</th>\n",
       "      <th>opp_ORL</th>\n",
       "      <th>opp_PHI</th>\n",
       "      <th>opp_PHO</th>\n",
       "      <th>opp_POR</th>\n",
       "      <th>opp_SAC</th>\n",
       "      <th>opp_SAS</th>\n",
       "      <th>opp_TOR</th>\n",
       "      <th>opp_UTA</th>\n",
       "      <th>opp_WAS</th>\n",
       "    </tr>\n",
       "  </thead>\n",
       "  <tbody>\n",
       "    <tr>\n",
       "      <th>0</th>\n",
       "      <td>0</td>\n",
       "      <td>0.410</td>\n",
       "      <td>0.368</td>\n",
       "      <td>134</td>\n",
       "      <td>34</td>\n",
       "      <td>56</td>\n",
       "      <td>0</td>\n",
       "      <td>0</td>\n",
       "      <td>0</td>\n",
       "      <td>0</td>\n",
       "      <td>...</td>\n",
       "      <td>0</td>\n",
       "      <td>0</td>\n",
       "      <td>0</td>\n",
       "      <td>0</td>\n",
       "      <td>0</td>\n",
       "      <td>0</td>\n",
       "      <td>0</td>\n",
       "      <td>0</td>\n",
       "      <td>0</td>\n",
       "      <td>0</td>\n",
       "    </tr>\n",
       "    <tr>\n",
       "      <th>1</th>\n",
       "      <td>1</td>\n",
       "      <td>0.390</td>\n",
       "      <td>0.324</td>\n",
       "      <td>83</td>\n",
       "      <td>19</td>\n",
       "      <td>42</td>\n",
       "      <td>0</td>\n",
       "      <td>0</td>\n",
       "      <td>0</td>\n",
       "      <td>0</td>\n",
       "      <td>...</td>\n",
       "      <td>0</td>\n",
       "      <td>0</td>\n",
       "      <td>0</td>\n",
       "      <td>0</td>\n",
       "      <td>0</td>\n",
       "      <td>0</td>\n",
       "      <td>0</td>\n",
       "      <td>1</td>\n",
       "      <td>0</td>\n",
       "      <td>0</td>\n",
       "    </tr>\n",
       "    <tr>\n",
       "      <th>2</th>\n",
       "      <td>0</td>\n",
       "      <td>0.442</td>\n",
       "      <td>0.319</td>\n",
       "      <td>107</td>\n",
       "      <td>22</td>\n",
       "      <td>43</td>\n",
       "      <td>0</td>\n",
       "      <td>0</td>\n",
       "      <td>0</td>\n",
       "      <td>0</td>\n",
       "      <td>...</td>\n",
       "      <td>0</td>\n",
       "      <td>0</td>\n",
       "      <td>0</td>\n",
       "      <td>0</td>\n",
       "      <td>0</td>\n",
       "      <td>0</td>\n",
       "      <td>0</td>\n",
       "      <td>0</td>\n",
       "      <td>0</td>\n",
       "      <td>0</td>\n",
       "    </tr>\n",
       "    <tr>\n",
       "      <th>3</th>\n",
       "      <td>0</td>\n",
       "      <td>0.495</td>\n",
       "      <td>0.380</td>\n",
       "      <td>140</td>\n",
       "      <td>33</td>\n",
       "      <td>53</td>\n",
       "      <td>0</td>\n",
       "      <td>0</td>\n",
       "      <td>1</td>\n",
       "      <td>0</td>\n",
       "      <td>...</td>\n",
       "      <td>0</td>\n",
       "      <td>0</td>\n",
       "      <td>0</td>\n",
       "      <td>0</td>\n",
       "      <td>0</td>\n",
       "      <td>0</td>\n",
       "      <td>0</td>\n",
       "      <td>0</td>\n",
       "      <td>0</td>\n",
       "      <td>0</td>\n",
       "    </tr>\n",
       "    <tr>\n",
       "      <th>4</th>\n",
       "      <td>1</td>\n",
       "      <td>0.435</td>\n",
       "      <td>0.345</td>\n",
       "      <td>107</td>\n",
       "      <td>18</td>\n",
       "      <td>37</td>\n",
       "      <td>0</td>\n",
       "      <td>0</td>\n",
       "      <td>0</td>\n",
       "      <td>0</td>\n",
       "      <td>...</td>\n",
       "      <td>0</td>\n",
       "      <td>0</td>\n",
       "      <td>0</td>\n",
       "      <td>0</td>\n",
       "      <td>0</td>\n",
       "      <td>0</td>\n",
       "      <td>0</td>\n",
       "      <td>0</td>\n",
       "      <td>0</td>\n",
       "      <td>1</td>\n",
       "    </tr>\n",
       "  </tbody>\n",
       "</table>\n",
       "<p>5 rows × 34 columns</p>\n",
       "</div>"
      ],
      "text/plain": [
       "   home_away  c_fg%  c_3p%  celtics_points  c_ast  c_trb  opp_BRK  opp_CHI  \\\n",
       "0          0  0.410  0.368             134     34     56        0        0   \n",
       "1          1  0.390  0.324              83     19     42        0        0   \n",
       "2          0  0.442  0.319             107     22     43        0        0   \n",
       "3          0  0.495  0.380             140     33     53        0        0   \n",
       "4          1  0.435  0.345             107     18     37        0        0   \n",
       "\n",
       "   opp_CHO  opp_CLE  ...  opp_OKC  opp_ORL  opp_PHI  opp_PHO  opp_POR  \\\n",
       "0        0        0  ...        0        0        0        0        0   \n",
       "1        0        0  ...        0        0        0        0        0   \n",
       "2        0        0  ...        0        0        0        0        0   \n",
       "3        1        0  ...        0        0        0        0        0   \n",
       "4        0        0  ...        0        0        0        0        0   \n",
       "\n",
       "   opp_SAC  opp_SAS  opp_TOR  opp_UTA  opp_WAS  \n",
       "0        0        0        0        0        0  \n",
       "1        0        0        1        0        0  \n",
       "2        0        0        0        0        0  \n",
       "3        0        0        0        0        0  \n",
       "4        0        0        0        0        1  \n",
       "\n",
       "[5 rows x 34 columns]"
      ]
     },
     "execution_count": 25,
     "metadata": {},
     "output_type": "execute_result"
    }
   ],
   "source": [
    "df_combined_en.head()"
   ]
  },
  {
   "cell_type": "code",
   "execution_count": 28,
   "metadata": {},
   "outputs": [],
   "source": [
    "#Create a nueral net to try and predict win or loss\n",
    "\n",
    "#train test split \n",
    "X_all = df_nn_all\n",
    "y_all = df['w/l']\n",
    "\n",
    "X_train_all, X_test_all, y_train_all, y_test_all = train_test_split(X_all, y_all)"
   ]
  },
  {
   "cell_type": "code",
   "execution_count": 126,
   "metadata": {},
   "outputs": [],
   "source": [
    "#Knn\n",
    "knn_clas = KNeighborsClassifier()\n",
    "\n",
    "X_knn = df_combined_en\n",
    "y_knn = df['w/l']\n",
    "\n",
    "\n",
    "X_train_knn, X_test_knn, y_train_knn, y_test_knn = train_test_split(X_knn, y_knn)"
   ]
  },
  {
   "cell_type": "code",
   "execution_count": 52,
   "metadata": {},
   "outputs": [
    {
     "data": {
      "text/plain": [
       "0.55"
      ]
     },
     "execution_count": 52,
     "metadata": {},
     "output_type": "execute_result"
    }
   ],
   "source": [
    "#instantiate and fit model\n",
    "knn_n_rows = KNeighborsClassifier(n_neighbors=len(y_train_knn)).fit(X_train_knn, y_train_knn)\n",
    "knn_n_rows.score(X_test_knn, y_test_knn)\n",
    "\n",
    "#55% of the time the model predicts correctly"
   ]
  },
  {
   "cell_type": "code",
   "execution_count": 63,
   "metadata": {},
   "outputs": [
    {
     "data": {
      "image/png": "[encoded data removed]",
      "text/plain": [
       "<Figure size 432x288 with 1 Axes>"
      ]
     },
     "metadata": {
      "needs_background": "light"
     },
     "output_type": "display_data"
    }
   ],
   "source": [
    "#Find the best number of neighbors \n",
    "# A:\n",
    "scores = []\n",
    "for i in range(1, len(y_train_knn)):\n",
    "    knn = KNeighborsClassifier(n_neighbors=i).fit(X_train_knn, y_train_knn)\n",
    "    scores.append(knn.score(X_test_knn, y_test_knn))\n",
    "    \n",
    "plt.plot(range(1, len(y_train_knn)), scores)\n",
    "plt.xlabel('Number of Neighbors')\n",
    "plt.plot(np.argmax(scores) + 1, max(scores), 'ro')\n",
    "plt.title(f'The Best Score was with {np.argmax(scores) + 1} neighbors.')\n",
    "plt.grid()\n",
    "#6 is the ideal number of neighbors"
   ]
  },
  {
   "cell_type": "code",
   "execution_count": 65,
   "metadata": {},
   "outputs": [
    {
     "data": {
      "text/plain": [
       "0.8"
      ]
     },
     "execution_count": 65,
     "metadata": {},
     "output_type": "execute_result"
    }
   ],
   "source": [
    "knn_n_six = KNeighborsClassifier(n_neighbors=6).fit(X_train_knn, y_train_knn)\n",
    "knn_n_six.score(X_test_knn, y_test_knn)\n",
    "#Model is now 80% accurate "
   ]
  },
  {
   "cell_type": "code",
   "execution_count": 66,
   "metadata": {},
   "outputs": [
    {
     "data": {
      "text/html": [
       "<div>\n",
       "<style scoped>\n",
       "    .dataframe tbody tr th:only-of-type {\n",
       "        vertical-align: middle;\n",
       "    }\n",
       "\n",
       "    .dataframe tbody tr th {\n",
       "        vertical-align: top;\n",
       "    }\n",
       "\n",
       "    .dataframe thead th {\n",
       "        text-align: right;\n",
       "    }\n",
       "</style>\n",
       "<table border=\"1\" class=\"dataframe\">\n",
       "  <thead>\n",
       "    <tr style=\"text-align: right;\">\n",
       "      <th></th>\n",
       "      <th>model</th>\n",
       "      <th>actual</th>\n",
       "    </tr>\n",
       "  </thead>\n",
       "  <tbody>\n",
       "    <tr>\n",
       "      <th>74</th>\n",
       "      <td>1</td>\n",
       "      <td>1</td>\n",
       "    </tr>\n",
       "    <tr>\n",
       "      <th>15</th>\n",
       "      <td>1</td>\n",
       "      <td>1</td>\n",
       "    </tr>\n",
       "    <tr>\n",
       "      <th>72</th>\n",
       "      <td>1</td>\n",
       "      <td>1</td>\n",
       "    </tr>\n",
       "    <tr>\n",
       "      <th>59</th>\n",
       "      <td>0</td>\n",
       "      <td>0</td>\n",
       "    </tr>\n",
       "    <tr>\n",
       "      <th>0</th>\n",
       "      <td>1</td>\n",
       "      <td>0</td>\n",
       "    </tr>\n",
       "    <tr>\n",
       "      <th>24</th>\n",
       "      <td>0</td>\n",
       "      <td>0</td>\n",
       "    </tr>\n",
       "    <tr>\n",
       "      <th>58</th>\n",
       "      <td>1</td>\n",
       "      <td>1</td>\n",
       "    </tr>\n",
       "    <tr>\n",
       "      <th>49</th>\n",
       "      <td>0</td>\n",
       "      <td>0</td>\n",
       "    </tr>\n",
       "    <tr>\n",
       "      <th>26</th>\n",
       "      <td>0</td>\n",
       "      <td>0</td>\n",
       "    </tr>\n",
       "    <tr>\n",
       "      <th>9</th>\n",
       "      <td>0</td>\n",
       "      <td>0</td>\n",
       "    </tr>\n",
       "    <tr>\n",
       "      <th>73</th>\n",
       "      <td>1</td>\n",
       "      <td>1</td>\n",
       "    </tr>\n",
       "    <tr>\n",
       "      <th>35</th>\n",
       "      <td>1</td>\n",
       "      <td>1</td>\n",
       "    </tr>\n",
       "    <tr>\n",
       "      <th>46</th>\n",
       "      <td>0</td>\n",
       "      <td>0</td>\n",
       "    </tr>\n",
       "    <tr>\n",
       "      <th>18</th>\n",
       "      <td>0</td>\n",
       "      <td>0</td>\n",
       "    </tr>\n",
       "    <tr>\n",
       "      <th>21</th>\n",
       "      <td>0</td>\n",
       "      <td>1</td>\n",
       "    </tr>\n",
       "    <tr>\n",
       "      <th>77</th>\n",
       "      <td>1</td>\n",
       "      <td>1</td>\n",
       "    </tr>\n",
       "    <tr>\n",
       "      <th>41</th>\n",
       "      <td>1</td>\n",
       "      <td>1</td>\n",
       "    </tr>\n",
       "    <tr>\n",
       "      <th>10</th>\n",
       "      <td>0</td>\n",
       "      <td>1</td>\n",
       "    </tr>\n",
       "    <tr>\n",
       "      <th>2</th>\n",
       "      <td>0</td>\n",
       "      <td>1</td>\n",
       "    </tr>\n",
       "    <tr>\n",
       "      <th>30</th>\n",
       "      <td>0</td>\n",
       "      <td>0</td>\n",
       "    </tr>\n",
       "  </tbody>\n",
       "</table>\n",
       "</div>"
      ],
      "text/plain": [
       "    model  actual\n",
       "74      1       1\n",
       "15      1       1\n",
       "72      1       1\n",
       "59      0       0\n",
       "0       1       0\n",
       "24      0       0\n",
       "58      1       1\n",
       "49      0       0\n",
       "26      0       0\n",
       "9       0       0\n",
       "73      1       1\n",
       "35      1       1\n",
       "46      0       0\n",
       "18      0       0\n",
       "21      0       1\n",
       "77      1       1\n",
       "41      1       1\n",
       "10      0       1\n",
       "2       0       1\n",
       "30      0       0"
      ]
     },
     "execution_count": 66,
     "metadata": {},
     "output_type": "execute_result"
    }
   ],
   "source": [
    "pd.DataFrame({'model': knn_n_six.predict(X_test_knn), 'actual': y_test_knn})"
   ]
  },
  {
   "cell_type": "code",
   "execution_count": 71,
   "metadata": {},
   "outputs": [
    {
     "data": {
      "text/plain": [
       "0.7833333333333333"
      ]
     },
     "execution_count": 71,
     "metadata": {},
     "output_type": "execute_result"
    }
   ],
   "source": [
    "cross_val = cross_val_score(knn_n_six, X_train_knn, y_train_knn)\n",
    "cross_val.mean()\n",
    "#mean cross val score of 78%"
   ]
  },
  {
   "cell_type": "code",
   "execution_count": 72,
   "metadata": {},
   "outputs": [],
   "source": [
    "#Model better scaled? \n",
    "scaler = StandardScaler()\n",
    "X_train_scaled_knn = scaler.fit_transform(X_train_knn)\n",
    "X_test_scaled_knn = scaler.transform(X_test_knn)"
   ]
  },
  {
   "cell_type": "code",
   "execution_count": 78,
   "metadata": {},
   "outputs": [
    {
     "data": {
      "text/plain": [
       "0.75"
      ]
     },
     "execution_count": 78,
     "metadata": {},
     "output_type": "execute_result"
    }
   ],
   "source": [
    "knn_scaled = KNeighborsClassifier(n_neighbors=6).fit(X_train_scaled_knn, y_train_knn)\n",
    "knn_scaled.score(X_test_scaled_knn, y_test_knn)"
   ]
  },
  {
   "cell_type": "code",
   "execution_count": 166,
   "metadata": {},
   "outputs": [
    {
     "name": "stdout",
     "output_type": "stream",
     "text": [
      "Accuracy: 0.55\n"
     ]
    }
   ],
   "source": [
    "y_predict_knn = voter.predict(X_test_knn)\n",
    "print(\"Accuracy:\",metrics.accuracy_score(y_test_knn, y_prediction))\n",
    "#test data accuracy "
   ]
  },
  {
   "cell_type": "code",
   "execution_count": 81,
   "metadata": {},
   "outputs": [
    {
     "data": {
      "text/plain": [
       "0.6621212121212121"
      ]
     },
     "execution_count": 81,
     "metadata": {},
     "output_type": "execute_result"
    }
   ],
   "source": [
    "cross_val_score(knn_scaled, X_train_scaled_knn, y_train_knn).mean()"
   ]
  },
  {
   "cell_type": "code",
   "execution_count": 93,
   "metadata": {},
   "outputs": [
    {
     "data": {
      "text/plain": [
       "LogisticRegression(C=1.0, class_weight=None, dual=False, fit_intercept=True,\n",
       "                   intercept_scaling=1, l1_ratio=None, max_iter=100,\n",
       "                   multi_class='auto', n_jobs=None, penalty='l2',\n",
       "                   random_state=None, solver='lbfgs', tol=0.0001, verbose=0,\n",
       "                   warm_start=False)"
      ]
     },
     "execution_count": 93,
     "metadata": {},
     "output_type": "execute_result"
    }
   ],
   "source": [
    "#Logistical Regression \n",
    "X_lgr = df_combined_en\n",
    "y_lgr = df['w/l']\n",
    "\n",
    "\n",
    "X_train_lgr, X_test_lgr, y_train_lgr, y_test_lgr = train_test_split(X_lgr, y_lgr,test_size=.50)\n",
    "\n",
    "scaler = StandardScaler()\n",
    "X_train_scaled_lgr = scaler.fit_transform(X_train_lgr)\n",
    "X_test_scaled_lgr = scaler.transform(X_test_lgr)\n",
    "\n",
    "lgr = LogisticRegression()\n",
    "lgr.fit(X_test_scaled_lgr, y_test_lgr)"
   ]
  },
  {
   "cell_type": "code",
   "execution_count": 94,
   "metadata": {},
   "outputs": [
    {
     "data": {
      "text/plain": [
       "0.6923076923076923"
      ]
     },
     "execution_count": 94,
     "metadata": {},
     "output_type": "execute_result"
    }
   ],
   "source": [
    "lgr.score(X_train_scaled_lgr, y_train_lgr)\n",
    "#70% accuracy"
   ]
  },
  {
   "cell_type": "code",
   "execution_count": 95,
   "metadata": {},
   "outputs": [
    {
     "data": {
      "text/plain": [
       "0.975"
      ]
     },
     "execution_count": 95,
     "metadata": {},
     "output_type": "execute_result"
    }
   ],
   "source": [
    "lgr.score(X_test_scaled_lgr, y_test_lgr)\n",
    "#Good on test data"
   ]
  },
  {
   "cell_type": "code",
   "execution_count": 97,
   "metadata": {},
   "outputs": [
    {
     "data": {
      "text/plain": [
       "array([0.875     , 0.5       , 0.875     , 0.75      , 0.57142857])"
      ]
     },
     "execution_count": 97,
     "metadata": {},
     "output_type": "execute_result"
    }
   ],
   "source": [
    "cross_val_score(lgr, X_train_scaled_lgr, y_train_lgr)\n"
   ]
  },
  {
   "cell_type": "code",
   "execution_count": 98,
   "metadata": {},
   "outputs": [
    {
     "data": {
      "text/plain": [
       "0.7833333333333333"
      ]
     },
     "execution_count": 98,
     "metadata": {},
     "output_type": "execute_result"
    }
   ],
   "source": [
    "cross_val_lgr = cross_val_score(knn_n_six, X_train_knn, y_train_knn)\n",
    "cross_val_lgr.mean()\n",
    "#average cross val of 78%"
   ]
  },
  {
   "cell_type": "code",
   "execution_count": 243,
   "metadata": {},
   "outputs": [],
   "source": [
    "#Decision Tree\n",
    "\n",
    "X_t = df_combined_en\n",
    "y_t = df['w/l']\n",
    "\n",
    "\n",
    "X_train_t, X_test_t, y_train_t, y_test_t = train_test_split(X_t, y_t)\n",
    "\n",
    "scaler = StandardScaler()\n",
    "X_train_scaled_t = scaler.fit_transform(X_train_t)\n",
    "X_test_scaled_t = scaler.transform(X_test_t)\n",
    "\n",
    "dtc = DecisionTreeClassifier(criterion='entropy', max_depth=3)\n",
    "tree = dtc.fit(X_train_scaled_t,y_train_t)"
   ]
  },
  {
   "cell_type": "code",
   "execution_count": 244,
   "metadata": {},
   "outputs": [
    {
     "name": "stdout",
     "output_type": "stream",
     "text": [
      "Accuracy: 0.7\n"
     ]
    }
   ],
   "source": [
    "y_pred = dtc.predict(X_test_scaled_t)\n",
    "print(\"Accuracy:\",metrics.accuracy_score(y_test_t, y_pred))\n",
    "#80% accuracy -- better than knn"
   ]
  },
  {
   "cell_type": "code",
   "execution_count": 245,
   "metadata": {},
   "outputs": [
    {
     "data": {
      "text/plain": [
       "0.7984848484848486"
      ]
     },
     "execution_count": 245,
     "metadata": {},
     "output_type": "execute_result"
    }
   ],
   "source": [
    "cross_val_score(tree, X_train_scaled_t, y_train_t).mean()\n",
    "#mean cross val scoe 78%"
   ]
  },
  {
   "cell_type": "code",
   "execution_count": 203,
   "metadata": {},
   "outputs": [
    {
     "data": {
      "text/plain": [
       "ExtraTreesClassifier(bootstrap=False, ccp_alpha=0.0, class_weight=None,\n",
       "                     criterion='entropy', max_depth=3, max_features='auto',\n",
       "                     max_leaf_nodes=None, max_samples=None,\n",
       "                     min_impurity_decrease=0.0, min_impurity_split=None,\n",
       "                     min_samples_leaf=1, min_samples_split=2,\n",
       "                     min_weight_fraction_leaf=0.0, n_estimators=100,\n",
       "                     n_jobs=None, oob_score=False, random_state=None, verbose=0,\n",
       "                     warm_start=False)"
      ]
     },
     "execution_count": 203,
     "metadata": {},
     "output_type": "execute_result"
    }
   ],
   "source": [
    "#Random Forst and ExtrTree classifiers\n",
    "\n",
    "forest = RandomForestClassifier(criterion='entropy', max_depth=3)\n",
    "extra = ExtraTreesClassifier(criterion='entropy', max_depth=3)\n",
    "\n",
    "forest.fit(X_train_scaled_t, y_train_t)\n",
    "extra.fit(X_train_scaled_t, y_train_t)"
   ]
  },
  {
   "cell_type": "code",
   "execution_count": 220,
   "metadata": {},
   "outputs": [
    {
     "data": {
      "text/plain": [
       "0.7287878787878789"
      ]
     },
     "execution_count": 220,
     "metadata": {},
     "output_type": "execute_result"
    }
   ],
   "source": [
    "cross_val_score(forest, X_train_scaled_t, y_train_t).mean() #about same as decision tree"
   ]
  },
  {
   "cell_type": "code",
   "execution_count": 221,
   "metadata": {},
   "outputs": [
    {
     "data": {
      "text/plain": [
       "0.6439393939393938"
      ]
     },
     "execution_count": 221,
     "metadata": {},
     "output_type": "execute_result"
    }
   ],
   "source": [
    "cross_val_score(extra, X_train_scaled_t, y_train_t).mean() #about same as decision tree"
   ]
  },
  {
   "cell_type": "code",
   "execution_count": null,
   "metadata": {},
   "outputs": [],
   "source": []
  }
 ],
 "metadata": {
  "kernelspec": {
   "display_name": "Python 3",
   "language": "python",
   "name": "python3"
  },
  "language_info": {
   "codemirror_mode": {
    "name": "ipython",
    "version": 3
   },
   "file_extension": ".py",
   "mimetype": "text/x-python",
   "name": "python",
   "nbconvert_exporter": "python",
   "pygments_lexer": "ipython3",
   "version": "3.7.6"
  }
 },
 "nbformat": 4,
 "nbformat_minor": 4
}
